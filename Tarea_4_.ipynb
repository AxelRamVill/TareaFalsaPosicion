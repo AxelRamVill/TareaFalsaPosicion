{
  "nbformat": 4,
  "nbformat_minor": 0,
  "metadata": {
    "colab": {
      "name": "Tarea 4 .ipynb",
      "provenance": [],
      "collapsed_sections": []
    },
    "kernelspec": {
      "name": "python3",
      "display_name": "Python 3"
    }
  },
  "cells": [
    {
      "cell_type": "code",
      "metadata": {
        "id": "M9nY4TGZjXJS",
        "outputId": "d17eef90-ee3b-4e97-ccd5-68a57410e3d3",
        "colab": {
          "base_uri": "https://localhost:8080/",
          "height": 364
        }
      },
      "source": [
        "#ejericio 1 #\n",
        "\n",
        "import matplotlib.pyplot as plt\n",
        "import numpy as np\n",
        "import math\n",
        "lxr = list()\n",
        "\n",
        "def biseccion(xu = 7, xl = 6):\n",
        "  print(\"Biseccion\")\n",
        "  fxu=((-0.5 * (xu**2)) + (2.5 * xu) + 4.5)\n",
        "  fxl = ((-0.5 * (xl**2)) + (2.5 * xl) + 4.5)\n",
        "  if (fxu * fxl < 0):\n",
        "     xr = (xl + xu) / 2\n",
        "     fxr = ((-0.5 * (xr**2)) + (2.5 * xr) + 4.5)\n",
        "     print(\"El valor de Xr es: \" + str(xr))\n",
        "     lxr.append(xr)\n",
        "     num = 1\n",
        "     while num < 4:\n",
        "         num = num + 1\n",
        "         if (fxu * fxr < 0):             \n",
        "             xl = xr\n",
        "             fxu=((-0.5 * (xu**2)) + (2.5 * xu) + 4.5)\n",
        "             fxl = ((-0.5 * (xl**2)) + (2.5 * xl) + 4.5)\n",
        "             xr = (xl + xu) / 2\n",
        "             fxr = ((-0.5 * (xr**2)) + (2.5 * xr) + 4.5)             \n",
        "             print(\"El valor de Xr es: \" + str(xr))\n",
        "             lxr.append(xr)\n",
        "         if (fxl * fxr < 0):\n",
        "             xu = xr\n",
        "             fxu=((-0.5 * (xu**2)) + (2.5 * xu) + 4.5)\n",
        "             fxl = ((-0.5 * (xl**2)) + (2.5 * xl) + 4.5)\n",
        "             xr = (xl + xu) / 2\n",
        "             fxr = ((-0.5 * (xr**2)) + (2.5 * xr) + 4.5)\n",
        "             print(\"El valor de Xr es: \" + str(xr))\n",
        "             lxr.append(xr)\n",
        "         if (fxu * fxr > 0 and fxl * fxr > 0):\n",
        "             print(\"No tiene raiz\")\n",
        "  else:\n",
        "     print(\"No tiene raiz\")\n",
        "biseccion()\n",
        "plt.plot(lxr)  \n",
        "plt.show()\n",
        "  "
      ],
      "execution_count": 2,
      "outputs": [
        {
          "output_type": "stream",
          "text": [
            "Biseccion\n",
            "El valor de Xr es: 6.5\n",
            "El valor de Xr es: 6.25\n",
            "El valor de Xr es: 6.375\n",
            "El valor de Xr es: 6.4375\n",
            "El valor de Xr es: 6.40625\n"
          ],
          "name": "stdout"
        },
        {
          "output_type": "display_data",
          "data": {
            "image/png": "[encoded data removed]",
            "text/plain": [
              "<Figure size 432x288 with 1 Axes>"
            ]
          },
          "metadata": {
            "tags": [],
            "needs_background": "light"
          }
        }
      ]
    },
    {
      "cell_type": "code",
      "metadata": {
        "id": "d1a-3MJ_kGQd",
        "outputId": "da58328e-4323-426e-c70a-a5148e38a3da",
        "colab": {
          "base_uri": "https://localhost:8080/",
          "height": 380
        }
      },
      "source": [
        "import matplotlib.pyplot as plt\n",
        "\n",
        "def falsaPosicion(xu = 7, xl = 6):\n",
        "    print(\"Falsa posicion: \")\n",
        "    \n",
        "    fxu=((-0.5 * (xu**2)) + (2.5 * xu) + 4.5)\n",
        "    fxl = ((-0.5 * (xl**2)) + (2.5 * xl) + 4.5)\n",
        "    lxr = list()\n",
        "    if(fxu * fxl < 0):\n",
        "        xr = (xu - ((fxu * (xl - xu) / (fxl - fxu))))\n",
        "        fxr =((-0.5 * (xr**2)) + (2.5 * xr) + 4.5)\n",
        "        lxr.append(xr)\n",
        "        print(\"El valor de Xr es: \" + str(xr))\n",
        "        er = 1\n",
        "        while er > (10**-5):\n",
        "            if(fxu * fxr < 0):\n",
        "                xl = xr\n",
        "                fxl =((-0.5 * (xl**2)) + (2.5 * xl) + 4.5)\n",
        "                fxu =((-0.5 * (xu**2)) + (2.5 * xu) + 4.5)\n",
        "                xr = (xu - ((fxu * (xl - xu) / (fxl - fxu))))\n",
        "                fxr =((-0.5 * (xr**2)) + (2.5 * xr) + 4.5)\n",
        "                er=(xr-xl)/xr\n",
        "                lxr.append(xr)\n",
        "                print(\"El valor de Xr es: \" + str(xr))\n",
        "            if (fxl * fxr < 0):\n",
        "                xu=xr\n",
        "                fxl = ((-0.5 * (xl**2)) + (2.5 * xl) + 4.5)\n",
        "                fxu = ((-0.5 * (xu**2)) + (2.5 * xu) + 4.5)\n",
        "                xr = (xu - ((fxu * (xl - xu) / (fxl - fxu))))\n",
        "                fxr = ((-0.5 * (xr**2)) + (2.5 * xr) + 4.5)\n",
        "                er = (xr - xl) / xr\n",
        "                lxr.append(xr)\n",
        "                print(\"El valor de Xr es: \" + str(xr))\n",
        "            if (fxu * fxr > 0 and fxl * fxr > 0):\n",
        "                print(\"No tiene raiz, fin del programa\")\n",
        "        plt.plot(lxr)\n",
        "        plt.show\n",
        "    else:\n",
        "        print(\"No tiene raiz, fin del programa\")\n",
        "falsaPosicion()"
      ],
      "execution_count": 3,
      "outputs": [
        {
          "output_type": "stream",
          "text": [
            "Falsa posicion: \n",
            "Siendo Xl = 6, Xu = 7\n",
            "El valor de Xr es: 6.375\n",
            "El valor de Xr es: 6.402985074626866\n",
            "El valor de Xr es: 6.404973357015986\n",
            "El valor de Xr es: 6.4051141166525785\n",
            "El valor de Xr es: 6.405124079149171\n"
          ],
          "name": "stdout"
        },
        {
          "output_type": "display_data",
          "data": {
            "image/png": "[encoded data removed]",
            "text/plain": [
              "<Figure size 432x288 with 1 Axes>"
            ]
          },
          "metadata": {
            "tags": [],
            "needs_background": "light"
          }
        }
      ]
    },
    {
      "cell_type": "code",
      "metadata": {
        "id": "b3mrfRy7nN87"
      },
      "source": [
        ""
      ],
      "execution_count": null,
      "outputs": []
    }
  ]
}